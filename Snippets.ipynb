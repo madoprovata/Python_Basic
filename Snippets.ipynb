{
 "cells": [
  {
   "cell_type": "code",
   "execution_count": 19,
   "id": "93cf0c1e-7f96-4a15-aedc-44640c2d8585",
   "metadata": {},
   "outputs": [
    {
     "name": "stdout",
     "output_type": "stream",
     "text": [
      "Data Science\n",
      "<class 'str'>\n",
      "<class 'int'>\n"
     ]
    }
   ],
   "source": [
    "# bool, int, float, str\n",
    "a = 'Data Science'\n",
    "print(a)\n",
    "print(type(a))\n",
    "\n",
    "b = 10\n",
    "print(type(b))"
   ]
  },
  {
   "cell_type": "code",
   "execution_count": 25,
   "id": "ca16c0ef-1c17-4518-b6a2-dc3410a3d3a5",
   "metadata": {},
   "outputs": [
    {
     "data": {
      "text/plain": [
       "bool"
      ]
     },
     "execution_count": 25,
     "metadata": {},
     "output_type": "execute_result"
    }
   ],
   "source": [
    "z = True\n",
    "type(z)"
   ]
  },
  {
   "cell_type": "code",
   "execution_count": 31,
   "id": "319a6a65-d977-4d73-bba3-71217af0d830",
   "metadata": {},
   "outputs": [
    {
     "data": {
      "text/plain": [
       "14.5"
      ]
     },
     "execution_count": 31,
     "metadata": {},
     "output_type": "execute_result"
    }
   ],
   "source": [
    "True + 6 +7.5\n",
    "# 1+6+7.5"
   ]
  },
  {
   "cell_type": "code",
   "execution_count": 33,
   "id": "34e8a692-7856-4d82-96ec-eb541101d257",
   "metadata": {},
   "outputs": [
    {
     "data": {
      "text/plain": [
       "10"
      ]
     },
     "execution_count": 33,
     "metadata": {},
     "output_type": "execute_result"
    }
   ],
   "source": [
    "int(7.5) + 3"
   ]
  },
  {
   "cell_type": "code",
   "execution_count": 39,
   "id": "944228fc-a6e8-4d39-88ce-a3a75d83a359",
   "metadata": {},
   "outputs": [
    {
     "data": {
      "text/plain": [
       "(False, False, True)"
      ]
     },
     "execution_count": 39,
     "metadata": {},
     "output_type": "execute_result"
    }
   ],
   "source": [
    "bool(None), bool(), bool(3)"
   ]
  },
  {
   "cell_type": "code",
   "execution_count": 45,
   "id": "9e057340-03a3-441b-bb42-640cf6c9d5d6",
   "metadata": {},
   "outputs": [
    {
     "data": {
      "text/plain": [
       "8"
      ]
     },
     "execution_count": 45,
     "metadata": {},
     "output_type": "execute_result"
    }
   ],
   "source": [
    "#Auto typecasting \n",
    "True + 3+ int(4.5)\n"
   ]
  },
  {
   "cell_type": "code",
   "execution_count": 47,
   "id": "ba142c0f-ac79-4af7-8173-aa46627ea709",
   "metadata": {},
   "outputs": [
    {
     "name": "stdout",
     "output_type": "stream",
     "text": [
      "<class 'int'>\n",
      "<class 'float'>\n"
     ]
    }
   ],
   "source": [
    "a = 3\n",
    "b = 4.5\n",
    "print(type(a))\n",
    "print(type(b))"
   ]
  },
  {
   "cell_type": "code",
   "execution_count": 49,
   "id": "a744c8d2-e5e5-428f-81a3-6aa58dd41f52",
   "metadata": {},
   "outputs": [
    {
     "data": {
      "text/plain": [
       "7"
      ]
     },
     "execution_count": 49,
     "metadata": {},
     "output_type": "execute_result"
    }
   ],
   "source": [
    "a + int(b)"
   ]
  },
  {
   "cell_type": "code",
   "execution_count": 57,
   "id": "ae64ee87-35e9-4345-9a64-75c3c7f5c806",
   "metadata": {},
   "outputs": [
    {
     "data": {
      "text/plain": [
       "7"
      ]
     },
     "execution_count": 57,
     "metadata": {},
     "output_type": "execute_result"
    }
   ],
   "source": [
    "3 + (int('4'))"
   ]
  },
  {
   "cell_type": "code",
   "execution_count": 59,
   "id": "6bf7e0b1-2b48-4a92-a4ff-8dc539e563f4",
   "metadata": {},
   "outputs": [
    {
     "data": {
      "text/plain": [
       "4"
      ]
     },
     "execution_count": 59,
     "metadata": {},
     "output_type": "execute_result"
    }
   ],
   "source": [
    "# True -> 1, False -> 0\n",
    "False + 4 \n"
   ]
  },
  {
   "cell_type": "code",
   "execution_count": 61,
   "id": "6fcf8a4c-5a04-4570-beb0-ed5f0763d566",
   "metadata": {},
   "outputs": [
    {
     "data": {
      "text/plain": [
       "123"
      ]
     },
     "execution_count": 61,
     "metadata": {},
     "output_type": "execute_result"
    }
   ],
   "source": [
    "#Practice int() and float() - cannot convert complex i.e. (10+5j) and only in base -10\n",
    "int(123.987)\n"
   ]
  },
  {
   "cell_type": "code",
   "execution_count": 65,
   "id": "3b50876f-75f5-40ba-a6b6-5c4fd572b3ba",
   "metadata": {},
   "outputs": [
    {
     "data": {
      "text/plain": [
       "(1, 0, 10, 10)"
      ]
     },
     "execution_count": 65,
     "metadata": {},
     "output_type": "execute_result"
    }
   ],
   "source": [
    "int(True), int(False), int(10), int(\"10\")"
   ]
  },
  {
   "cell_type": "code",
   "execution_count": 76,
   "id": "b7c5f1f8-5d5c-471f-a9ff-201fa76aeebf",
   "metadata": {},
   "outputs": [
    {
     "data": {
      "text/plain": [
       "20"
      ]
     },
     "execution_count": 76,
     "metadata": {},
     "output_type": "execute_result"
    }
   ],
   "source": [
    "int(\"20\")"
   ]
  },
  {
   "cell_type": "code",
   "execution_count": 82,
   "id": "bf7ce7f1-7d8a-4bc2-aa41-519945daf93f",
   "metadata": {},
   "outputs": [
    {
     "data": {
      "text/plain": [
       "(10.0, 150.5)"
      ]
     },
     "execution_count": 82,
     "metadata": {},
     "output_type": "execute_result"
    }
   ],
   "source": [
    "float(10), float(\"150.5\")"
   ]
  },
  {
   "cell_type": "code",
   "execution_count": 102,
   "id": "4fcb8ce6-4de9-4f8f-8491-31d6d5042463",
   "metadata": {},
   "outputs": [
    {
     "data": {
      "text/plain": [
       "(False, True, True, True, True, True)"
      ]
     },
     "execution_count": 102,
     "metadata": {},
     "output_type": "execute_result"
    }
   ],
   "source": [
    "#Practice bool()\n",
    "bool(0), bool(1), bool(10), bool(1.123), bool(10+2j), bool(0+5j) \n"
   ]
  },
  {
   "cell_type": "code",
   "execution_count": 100,
   "id": "c2fb3a00-e786-4d10-b475-0ba5aee11341",
   "metadata": {},
   "outputs": [
    {
     "data": {
      "text/plain": [
       "(True, True, True, False)"
      ]
     },
     "execution_count": 100,
     "metadata": {},
     "output_type": "execute_result"
    }
   ],
   "source": [
    "bool(1+8j), bool(\"True\"), bool(\"False\"), bool(\"\")"
   ]
  },
  {
   "cell_type": "code",
   "execution_count": 122,
   "id": "2e306fa5-8518-4136-aa66-1d13378605ac",
   "metadata": {},
   "outputs": [
    {
     "data": {
      "text/plain": [
       "('AC', 'FA')"
      ]
     },
     "execution_count": 122,
     "metadata": {},
     "output_type": "execute_result"
    }
   ],
   "source": [
    "#Slicing\n",
    "str1 = 'FACE'\n",
    "str1[1:3], str1[-4:-2]\n"
   ]
  },
  {
   "cell_type": "code",
   "execution_count": 138,
   "id": "c9e1bcd3-b305-4346-9118-11ef46e449b0",
   "metadata": {},
   "outputs": [
    {
     "data": {
      "text/plain": [
       "(' a', ' Data', 'Data', 'Scientist', 'I am a ')"
      ]
     },
     "execution_count": 138,
     "metadata": {},
     "output_type": "execute_result"
    }
   ],
   "source": [
    "a = 'I am a Data Scientist' \n",
    "a[4:6], a[6:11], a[7:11], a[-9:], a[:7]"
   ]
  },
  {
   "cell_type": "code",
   "execution_count": 140,
   "id": "236e77a9-5d95-4d19-9dca-8bb18ac1ae1b",
   "metadata": {},
   "outputs": [
    {
     "name": "stdout",
     "output_type": "stream",
     "text": [
      "[3, 4, 5, 6] [2, 3, 4, 5, 6, 7, 8, 9, 10] [1, 2, 3, 4, 5] [1, 3, 5, 7, 9]\n"
     ]
    }
   ],
   "source": [
    "#Prastice Slicing a list \n",
    "my_list = [1, 2, 3, 4, 5, 6, 7, 8, 9, 10]\n",
    "slice1 = my_list[2:6]\n",
    "slice2 = my_list[1:] #every value from 1 onwards, includinh 1\n",
    "slice3 = my_list[:5] #every value until 5th, not including 5th\n",
    "slice4 = my_list[::2] #every two\n",
    "print(slice1, slice2, slice3, slice4)"
   ]
  },
  {
   "cell_type": "code",
   "execution_count": 154,
   "id": "543c47da-bd2e-4a65-8eb6-4061d6c45860",
   "metadata": {},
   "outputs": [
    {
     "name": "stdout",
     "output_type": "stream",
     "text": [
      "[9, 10] [1, 2, 3, 4, 5, 6, 7] [10, 9, 8, 7, 6, 5, 4, 3, 2, 1]\n"
     ]
    }
   ],
   "source": [
    "#Slicing with negative indices\n",
    "my_list = [1, 2, 3, 4, 5, 6, 7, 8, 9, 10]\n",
    "slice5 = my_list[-2:] #from -2nd value until -1\n",
    "slice6 = my_list[:-3] #from 3rd value counting backwards, not including 3rd value\n",
    "slice7 = my_list[::-1] #every once value counting backwards \n",
    "print(slice5, slice6, slice7)"
   ]
  },
  {
   "cell_type": "code",
   "execution_count": 164,
   "id": "585ad679-ad17-4b3a-9a87-8d7c48089695",
   "metadata": {},
   "outputs": [
    {
     "name": "stdout",
     "output_type": "stream",
     "text": [
      "14\n",
      "6\n",
      "40\n",
      "10000\n",
      "2.5\n",
      "1\n"
     ]
    }
   ],
   "source": [
    "#Math Operators \n",
    "print(10 + 4) #add\n",
    "print(10 - 4) #subtract \n",
    "print(10 * 4) #multiply\n",
    "print(10 ** 4) #exponent (to the power of)\n",
    "print(10 / 4) #divide\n",
    "print(5 % 4) #the remainder \n",
    "\n"
   ]
  },
  {
   "cell_type": "code",
   "execution_count": 168,
   "id": "5825eae7-98d1-43d5-a886-7521e2a2b20a",
   "metadata": {},
   "outputs": [
    {
     "name": "stdout",
     "output_type": "stream",
     "text": [
      "True\n",
      "True\n",
      "False\n",
      "True\n"
     ]
    }
   ],
   "source": [
    "#Comparisons \n",
    "print(5 > 3)\n",
    "print(5 >= 3)\n",
    "print(5 != 5) #NOT equal to\n",
    "print(5 == 5)"
   ]
  },
  {
   "cell_type": "code",
   "execution_count": 174,
   "id": "f4425668-ab91-4685-aa72-010ecd5a1340",
   "metadata": {},
   "outputs": [
    {
     "data": {
      "text/plain": [
       "(False, True, False, True, True, False)"
      ]
     },
     "execution_count": 174,
     "metadata": {},
     "output_type": "execute_result"
    }
   ],
   "source": [
    "10==20, 10!=20, 10==False, False==False, 'durga'=='durga', 10=='durga'"
   ]
  },
  {
   "cell_type": "code",
   "execution_count": 178,
   "id": "91dfcbce-915d-42cb-841d-3c0af64bcb01",
   "metadata": {},
   "outputs": [
    {
     "name": "stdout",
     "output_type": "stream",
     "text": [
      "Both a and b are greater than 0\n"
     ]
    }
   ],
   "source": [
    "#Logical AND operator \n",
    "a = 10\n",
    "b = 20 \n",
    "if a > 0 and b > 0:\n",
    "    print('Both a and b are greater than 0')"
   ]
  },
  {
   "cell_type": "code",
   "execution_count": 180,
   "id": "cf45e3e0-2f7b-4bef-8761-dfd926dd0d27",
   "metadata": {},
   "outputs": [
    {
     "name": "stdout",
     "output_type": "stream",
     "text": [
      "Either a or b is greater than 0\n"
     ]
    }
   ],
   "source": [
    "#Logical OR operator \n",
    "a = 10\n",
    "b = -5\n",
    "if a > 0 or b > 0:\n",
    "    print('Either a or b is greater than 0')"
   ]
  },
  {
   "cell_type": "code",
   "execution_count": 184,
   "id": "35f4c02a-1b34-4087-9a6e-850fb7efc3b5",
   "metadata": {},
   "outputs": [
    {
     "name": "stdout",
     "output_type": "stream",
     "text": [
      "a is True\n"
     ]
    }
   ],
   "source": [
    "#Logical NOT operator \n",
    "a = True\n",
    "if not a:\n",
    "    print('a is False')\n",
    "else: \n",
    "    print('a is True')"
   ]
  },
  {
   "cell_type": "code",
   "execution_count": 220,
   "id": "77aa790d-4dce-47e4-9883-b5865eed8ca0",
   "metadata": {},
   "outputs": [
    {
     "name": "stdout",
     "output_type": "stream",
     "text": [
      "False\n",
      "True\n",
      "False\n"
     ]
    }
   ],
   "source": [
    "#Logical Operators Practice \n",
    "a = True \n",
    "b = False \n",
    "print(a and b) #i.e. 1 and 0 therefore 0, hence false\n",
    "print(a or b) #if either have 1, then true\n",
    "print(not a) #therefore flase"
   ]
  },
  {
   "cell_type": "code",
   "execution_count": 186,
   "id": "1b677853-054f-41c7-b779-679f9feac505",
   "metadata": {},
   "outputs": [
    {
     "name": "stdout",
     "output_type": "stream",
     "text": [
      "4\n"
     ]
    }
   ],
   "source": [
    "#Bitwise AND\n",
    "a = 12 #1100 in binary\n",
    "b = 7 #0111 in binary\n",
    "print(a&b) #output 0100 in binary"
   ]
  },
  {
   "cell_type": "code",
   "execution_count": 188,
   "id": "5412223a-aea3-4e02-a583-0dc6952d31b8",
   "metadata": {},
   "outputs": [
    {
     "name": "stdout",
     "output_type": "stream",
     "text": [
      "15\n"
     ]
    }
   ],
   "source": [
    "#Bitwise OR\n",
    "a = 12 #1100 in binary \n",
    "b = 7 #0111 in binary \n",
    "print(a|b) #output 1111 in binary "
   ]
  },
  {
   "cell_type": "code",
   "execution_count": 190,
   "id": "2767819c-e436-4abc-ae79-a3696fa94410",
   "metadata": {},
   "outputs": [
    {
     "name": "stdout",
     "output_type": "stream",
     "text": [
      "11\n"
     ]
    }
   ],
   "source": [
    "#Bitwise XOR\n",
    "a = 12 \n",
    "b = 7 \n",
    "print(a^b) #1011 in binary "
   ]
  },
  {
   "cell_type": "code",
   "execution_count": 192,
   "id": "5566f575-7a53-45b8-bce6-92db13e6d6fa",
   "metadata": {},
   "outputs": [
    {
     "name": "stdout",
     "output_type": "stream",
     "text": [
      "-13\n"
     ]
    }
   ],
   "source": [
    "#Bitwise NOT\n",
    "a = 12 #1100 in binary \n",
    "print(~a) #-13 in decimal"
   ]
  },
  {
   "cell_type": "code",
   "execution_count": 194,
   "id": "9ccd647d-1f79-4607-8e7d-3cf7bc5ad804",
   "metadata": {},
   "outputs": [
    {
     "name": "stdout",
     "output_type": "stream",
     "text": [
      "20\n",
      "3\n"
     ]
    }
   ],
   "source": [
    "#Left Shift \n",
    "a = 5 #0101 in binary \n",
    "print(a << 2) #010100 in binary, equivalent to 20 in decimal \n",
    "\n",
    "#Right Shift \n",
    "a = 13 #1101 in binary \n",
    "print(a >> 2) #0011 in binary, equivalent to 3 in decimal "
   ]
  },
  {
   "cell_type": "code",
   "execution_count": 224,
   "id": "1399fc85-8818-424e-af65-c70e2330a12d",
   "metadata": {},
   "outputs": [
    {
     "name": "stdout",
     "output_type": "stream",
     "text": [
      "2\n",
      "15\n",
      "13\n",
      "-11\n",
      "40\n",
      "2\n"
     ]
    }
   ],
   "source": [
    "#Bitwsie operators practice \n",
    "x = 10 #1010 in binary \n",
    "y = 7  #0111 in binary \n",
    "print(x&y)\n",
    "print(x|y)\n",
    "print(x^y)\n",
    "print(~x)\n",
    "print(x << 2)\n",
    "print(x >> 2) "
   ]
  },
  {
   "cell_type": "code",
   "execution_count": 196,
   "id": "e1237bbb-2fd6-4d5b-a816-bc948249c847",
   "metadata": {},
   "outputs": [
    {
     "name": "stdout",
     "output_type": "stream",
     "text": [
      "15\n"
     ]
    }
   ],
   "source": [
    "#Addition Assignment \n",
    "x = 10\n",
    "x += 5 #equivalnent to x = x + 5, as in 10 + 5\n",
    "print(x)"
   ]
  },
  {
   "cell_type": "code",
   "execution_count": 198,
   "id": "25f821c4-61e4-4308-b9a0-7782344eb701",
   "metadata": {},
   "outputs": [
    {
     "name": "stdout",
     "output_type": "stream",
     "text": [
      "12\n"
     ]
    }
   ],
   "source": [
    "#Subtraction Assignment \n",
    "x -= 3 #Equivalent to x = x - 3, following from before, 15 - 3\n",
    "print(x)"
   ]
  },
  {
   "cell_type": "code",
   "execution_count": 200,
   "id": "f3e24f4f-e8dc-4ecb-aade-35a046677c42",
   "metadata": {},
   "outputs": [
    {
     "name": "stdout",
     "output_type": "stream",
     "text": [
      "24\n"
     ]
    }
   ],
   "source": [
    "#Multiplication Assignment \n",
    "x *= 2 #equivalent to x = x * 2, following from before, 12 * 2\n",
    "print(x)"
   ]
  },
  {
   "cell_type": "code",
   "execution_count": 202,
   "id": "fa9a4c63-f092-46ae-93b6-68c03a500834",
   "metadata": {},
   "outputs": [
    {
     "name": "stdout",
     "output_type": "stream",
     "text": [
      "6.0\n"
     ]
    }
   ],
   "source": [
    "#Division Assignment \n",
    "x /= 4 #equivalent to x = x / 4\n",
    "print(x)"
   ]
  },
  {
   "cell_type": "code",
   "execution_count": 204,
   "id": "9e845c8c-0901-4a83-89c7-d638e0e89151",
   "metadata": {},
   "outputs": [
    {
     "name": "stdout",
     "output_type": "stream",
     "text": [
      "0.0\n"
     ]
    }
   ],
   "source": [
    "#Modulus Assignment \n",
    "x %= 3 #equivalent to x = x % 3\n",
    "print(x)"
   ]
  },
  {
   "cell_type": "code",
   "execution_count": 206,
   "id": "570ce796-4175-4eab-adb3-076163c04d67",
   "metadata": {},
   "outputs": [
    {
     "name": "stdout",
     "output_type": "stream",
     "text": [
      "0.0\n"
     ]
    }
   ],
   "source": [
    "#Exponentiation Assignment \n",
    "x **= 2 #equivalent to x = x ** 2\n",
    "print(x)"
   ]
  },
  {
   "cell_type": "code",
   "execution_count": 208,
   "id": "d6b2f783-8f45-44da-a33e-ff027d70b133",
   "metadata": {},
   "outputs": [
    {
     "name": "stdout",
     "output_type": "stream",
     "text": [
      "0.0\n"
     ]
    }
   ],
   "source": [
    "#Floor division assignment \n",
    "x //= 3 #equivalent to x = x // 3\n",
    "#e.g. if 7//3 = 2, because 7/3 = 2.33 but floor truncates (cuts) the fractional part \n",
    "print(x)"
   ]
  },
  {
   "cell_type": "code",
   "execution_count": 218,
   "id": "2aad4606-c84d-4668-8660-dddb595ff99d",
   "metadata": {},
   "outputs": [
    {
     "name": "stdout",
     "output_type": "stream",
     "text": [
      "8\n",
      "2\n",
      "15\n",
      "1.6666666666666667\n",
      "2\n",
      "0.0016\n",
      "1\n"
     ]
    }
   ],
   "source": [
    "#Practice Assignment Operators \n",
    "a = 5 \n",
    "a += 3 \n",
    "print(a)\n",
    "\n",
    "b = 5 \n",
    "b -= 3\n",
    "print(b)\n",
    "\n",
    "c = 5\n",
    "c *= 3\n",
    "print(c)\n",
    "\n",
    "d = 5\n",
    "d /= 3\n",
    "print(d)\n",
    "\n",
    "e = 5\n",
    "e %= 3\n",
    "print(e) #output 2 because 3 goes into 5 once and there is a remainder of 2\n",
    "\n",
    "f = 5\n",
    "f **= -4 \n",
    "print(f)\n",
    "\n",
    "g = 4\n",
    "g //= 3\n",
    "print(g)"
   ]
  },
  {
   "cell_type": "code",
   "execution_count": null,
   "id": "caea1956-fd68-4673-ae7c-497f75a2fcc0",
   "metadata": {},
   "outputs": [],
   "source": []
  }
 ],
 "metadata": {
  "kernelspec": {
   "display_name": "Python 3 (ipykernel)",
   "language": "python",
   "name": "python3"
  },
  "language_info": {
   "codemirror_mode": {
    "name": "ipython",
    "version": 3
   },
   "file_extension": ".py",
   "mimetype": "text/x-python",
   "name": "python",
   "nbconvert_exporter": "python",
   "pygments_lexer": "ipython3",
   "version": "3.12.7"
  }
 },
 "nbformat": 4,
 "nbformat_minor": 5
}
